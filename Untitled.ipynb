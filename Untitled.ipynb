{
 "cells": [
  {
   "cell_type": "code",
   "execution_count": 10,
   "id": "3b2f881a-e1eb-4c14-ad1d-0e92adbd6567",
   "metadata": {},
   "outputs": [
    {
     "name": "stdout",
     "output_type": "stream",
     "text": [
      "0\n",
      "1\n",
      "2\n",
      "3\n",
      "4\n",
      "5\n",
      "6\n",
      "7\n",
      "8\n",
      "9\n",
      "10\n",
      "11\n",
      "Your name is 90\n",
      "Your gender is Male\n",
      "Your roll number is 67\n"
     ]
    }
   ],
   "source": [
    "class Student:\n",
    "    def __init__(self):\n",
    "        self.age=90\n",
    "        self.gender='Male'\n",
    "        self.roll_number=67\n",
    "        # self.age=input('enter your age')\n",
    "        # self.gender=input('enter your gender')\n",
    "        # self.roll_number=input('enter your roll number')\n",
    "    def info_detail(self):\n",
    "        print(f'Your name is {self.age}')\n",
    "        print(f'Your gender is {self.gender}')\n",
    "        print(f'Your roll number is {self.roll_number}')\n",
    "\n",
    "for index in range(12):\n",
    "    print(index)\n",
    "    \n",
    "s1=Student()\n",
    "s1.info_detail()\n",
    "        "
   ]
  },
  {
   "cell_type": "code",
   "execution_count": 13,
   "id": "1264571d-b8a6-4014-84aa-ee83fce7eaba",
   "metadata": {},
   "outputs": [
    {
     "name": "stdin",
     "output_type": "stream",
     "text": [
      "Enter Your Name imran\n",
      "Enter Your Balnace 78000\n",
      "Enter the amount your want to deposit  5688\n"
     ]
    },
    {
     "name": "stdout",
     "output_type": "stream",
     "text": [
      " your balnace is 83688\n"
     ]
    },
    {
     "name": "stdin",
     "output_type": "stream",
     "text": [
      "Enter the amount your want to withdraw  67\n"
     ]
    },
    {
     "name": "stdout",
     "output_type": "stream",
     "text": [
      " your balnace is 83621\n"
     ]
    }
   ],
   "source": [
    "from random import randint\n",
    "class Bank:\n",
    "    def __init__(self)-> None:\n",
    "        self.acccount=randint(1,100000)\n",
    "        self.name=input('Enter Your Name')\n",
    "        self.balance=int(input('Enter Your Balnace'))\n",
    "    def deposit(self):\n",
    "        amount=int(input('Enter the amount your want to deposit '))\n",
    "        self.balance=self.balance+amount\n",
    "        print(f' your balnace is {self.balance}')\n",
    "    def withdraw(self):\n",
    "        amount=int(input('Enter the amount your want to withdraw '))\n",
    "        self.balance=self.balance-amount\n",
    "        print(f' your balnace is {self.balance}')\n",
    "    def details(self):\n",
    "        print(f'Name is {self.name}')\n",
    "        print(f'account is {self.acccount}')\n",
    "        print(f'balance is {self.balance}')\n",
    "    \n",
    "        \n",
    "b1=Bank()\n",
    "b1.acccount\n",
    "b1.deposit()\n",
    "b1.withdraw()"
   ]
  },
  {
   "cell_type": "code",
   "execution_count": 16,
   "id": "1b29d1c3-3e5e-4d0e-9f2a-198dcb0954f3",
   "metadata": {},
   "outputs": [
    {
     "name": "stdout",
     "output_type": "stream",
     "text": [
      "None\n",
      "1. for create account\n",
      "2.for show all bank details\n",
      "3. Deposit\n",
      "4. withdraw\n",
      "5. For money transfer\n",
      "6.Exit\n"
     ]
    },
    {
     "name": "stdin",
     "output_type": "stream",
     "text": [
      "Enter your Choice 2\n"
     ]
    },
    {
     "name": "stdout",
     "output_type": "stream",
     "text": [
      "No account exists\n",
      "1. for create account\n",
      "2.for show all bank details\n",
      "3. Deposit\n",
      "4. withdraw\n",
      "5. For money transfer\n",
      "6.Exit\n"
     ]
    },
    {
     "name": "stdin",
     "output_type": "stream",
     "text": [
      "Enter your Choice 1\n",
      "Enter Your Name imran\n",
      "Enter Your Balnace 6700\n"
     ]
    },
    {
     "name": "stdout",
     "output_type": "stream",
     "text": [
      "1. for create account\n",
      "2.for show all bank details\n",
      "3. Deposit\n",
      "4. withdraw\n",
      "5. For money transfer\n",
      "6.Exit\n"
     ]
    },
    {
     "name": "stdin",
     "output_type": "stream",
     "text": [
      "Enter your Choice 1\n",
      "Enter Your Name hashmi\n",
      "Enter Your Balnace 678888\n"
     ]
    },
    {
     "name": "stdout",
     "output_type": "stream",
     "text": [
      "1. for create account\n",
      "2.for show all bank details\n",
      "3. Deposit\n",
      "4. withdraw\n",
      "5. For money transfer\n",
      "6.Exit\n"
     ]
    },
    {
     "name": "stdin",
     "output_type": "stream",
     "text": [
      "Enter your Choice 2\n"
     ]
    },
    {
     "name": "stdout",
     "output_type": "stream",
     "text": [
      "Name is imran\n",
      "account is 2338\n",
      "balance is 6700\n",
      "Name is hashmi\n",
      "account is 58332\n",
      "balance is 678888\n",
      "1. for create account\n",
      "2.for show all bank details\n",
      "3. Deposit\n",
      "4. withdraw\n",
      "5. For money transfer\n",
      "6.Exit\n"
     ]
    },
    {
     "name": "stdin",
     "output_type": "stream",
     "text": [
      "Enter your Choice 5\n",
      "Enter account from which you transfer 2338\n",
      "Enter account to which you transfer 58332\n"
     ]
    },
    {
     "name": "stdout",
     "output_type": "stream",
     "text": [
      "<__main__.Bank object at 0x0000022758B762C8>\n",
      "<__main__.Bank object at 0x0000022758B762C8>\n",
      "<__main__.Bank object at 0x0000022758B6DA08>\n"
     ]
    },
    {
     "name": "stdin",
     "output_type": "stream",
     "text": [
      "Enter amount your want to transfer 1200\n"
     ]
    },
    {
     "name": "stdout",
     "output_type": "stream",
     "text": [
      "Money transfer Successfully\n",
      "1. for create account\n",
      "2.for show all bank details\n",
      "3. Deposit\n",
      "4. withdraw\n",
      "5. For money transfer\n",
      "6.Exit\n"
     ]
    },
    {
     "name": "stdin",
     "output_type": "stream",
     "text": [
      "Enter your Choice 2\n"
     ]
    },
    {
     "name": "stdout",
     "output_type": "stream",
     "text": [
      "Name is imran\n",
      "account is 2338\n",
      "balance is 5500\n",
      "Name is hashmi\n",
      "account is 58332\n",
      "balance is 680088\n",
      "1. for create account\n",
      "2.for show all bank details\n",
      "3. Deposit\n",
      "4. withdraw\n",
      "5. For money transfer\n",
      "6.Exit\n"
     ]
    },
    {
     "name": "stdin",
     "output_type": "stream",
     "text": [
      "Enter your Choice 5\n",
      "Enter account from which you transfer 2338\n",
      "Enter account to which you transfer 58332\n"
     ]
    },
    {
     "name": "stdout",
     "output_type": "stream",
     "text": [
      "<__main__.Bank object at 0x0000022758B762C8>\n",
      "<__main__.Bank object at 0x0000022758B762C8>\n",
      "<__main__.Bank object at 0x0000022758B6DA08>\n"
     ]
    },
    {
     "name": "stdin",
     "output_type": "stream",
     "text": [
      "Enter amount your want to transfer 67900\n"
     ]
    },
    {
     "name": "stdout",
     "output_type": "stream",
     "text": [
      "insufficient Balance\n",
      "1. for create account\n",
      "2.for show all bank details\n",
      "3. Deposit\n",
      "4. withdraw\n",
      "5. For money transfer\n",
      "6.Exit\n"
     ]
    },
    {
     "name": "stdin",
     "output_type": "stream",
     "text": [
      "Enter your Choice 6\n"
     ]
    }
   ],
   "source": [
    "bank=[]\n",
    "def check_account(account_no):\n",
    "    for obj in bank:\n",
    "        if obj.acccount==account_no:\n",
    "            return obj\n",
    "    return  None\n",
    "\n",
    "print(i)\n",
    "while True:\n",
    "    print('1. for create account')\n",
    "    print('2.for show all bank details')\n",
    "    print('3. Deposit')\n",
    "    print('4. withdraw')\n",
    "    print('5. For money transfer')\n",
    "    print('6.Exit')\n",
    "    choice=int(input('Enter your Choice'))\n",
    "    if choice ==1:\n",
    "        obj=Bank()\n",
    "        bank.append(obj)\n",
    "    elif choice==2:\n",
    "        if len(bank)==0:\n",
    "            print('No account exists')\n",
    "        else:\n",
    "            for account in bank:\n",
    "                account.details()\n",
    "    elif choice==3:\n",
    "        if len(bank)==0:\n",
    "            print('No account exists')\n",
    "        else:\n",
    "            account_number=int(input('Enter account number you want to deposit'))\n",
    "            for account in bank:\n",
    "                if  account.acccount==account_number:\n",
    "                    account.deposit()\n",
    "                    break   \n",
    "                else:\n",
    "                    print('Account number not found')\n",
    "    elif choice==4:\n",
    "        if len(bank)==0:\n",
    "            print('No account exists')\n",
    "        else:\n",
    "            account_number=int(input('Enter account number you want to withdraw'))\n",
    "            for account in bank:\n",
    "                if  account.acccount==account_number:\n",
    "                    account.withdraw()\n",
    "                    break   \n",
    "                else:\n",
    "                    print('Account number not found')\n",
    "    elif choice==5:\n",
    "        from_account=int(input('Enter account from which you transfer'))\n",
    "        to_account=int(input('Enter account to which you transfer'))\n",
    "        from_account=check_account(from_account)\n",
    "        to_account=check_account(to_account)\n",
    "        if  from_account!=None and to_account!=None:\n",
    "            amount=int(input('Enter amount your want to transfer'))\n",
    "            if   from_account.balance < amount:\n",
    "                 print('insufficient Balance')\n",
    "            else:\n",
    "                from_account.balance -=amount\n",
    "                to_account.balance += amount\n",
    "                print('Money transfer Successfully')\n",
    "        else:\n",
    "             print('Account not found')\n",
    "            \n",
    "    elif choice==6:\n",
    "        break\n",
    "        \n",
    "        "
   ]
  },
  {
   "cell_type": "code",
   "execution_count": 11,
   "id": "2e905c13-9395-4058-abd1-88a2b2bdd012",
   "metadata": {},
   "outputs": [
    {
     "name": "stdout",
     "output_type": "stream",
     "text": [
      "653250.2100168472\n",
      "imran\n"
     ]
    }
   ],
   "source": [
    "import module\n",
    "#from module import circle_area\n",
    "print(circle_area(456)) \n",
    "if __name__ =='__main__':\n",
    "    print('imran')"
   ]
  },
  {
   "cell_type": "code",
   "execution_count": 6,
   "id": "751feeff-26a7-4c8e-b904-5ab5ae3e3bfc",
   "metadata": {},
   "outputs": [
    {
     "name": "stdout",
     "output_type": "stream",
     "text": [
      "Audi init\n",
      "color=black\n",
      "type=Car\n",
      "milage=89.0\n",
      "seat_capity=6\n",
      "color=True\n",
      "type=isl\n"
     ]
    }
   ],
   "source": [
    "class Car:\n",
    "    def __init__(self,c:str,t:str,m:float,sc:int):\n",
    "        self.color=c\n",
    "        self.type=t\n",
    "        self.milage=m\n",
    "        self.seat_capity=sc\n",
    "    def set_info(self,c:str,t:str,m:float,sc:int):\n",
    "        self.color=c\n",
    "        self.type=t\n",
    "        self.milage=m\n",
    "        self.seat_capity=sc\n",
    "    def info(self):\n",
    "        print(f'color={self.color}')\n",
    "        print(f'type={self.type}')\n",
    "        print(f'milage={self.milage}')\n",
    "        print(f'seat_capity={self.seat_capity}')\n",
    "class Audi(Car):\n",
    "    \n",
    "    def __init__(self,c:str,t:str,m:float,sc:int,electric:bool,city:str)->None:\n",
    "        super().__init__(c,t,m,sc)\n",
    "        print('Audi init')\n",
    "        self.electric=electric\n",
    "        self.city=city\n",
    "    def set_Audi_info(self,c:str,t:str,m:float,sc:int,electric:bool,city:str):\n",
    "        self.set_info(c,t,m,sc)\n",
    "        self.electric=electric\n",
    "        self.city=city\n",
    "    def  full_info(self):\n",
    "        self.info()\n",
    "        print(f'color={self.electric}')\n",
    "        print(f'type={self.city}')\n",
    "         \n",
    "    \n",
    "# c1=Car('black','car',56.90,7)\n",
    "# c1.info()\n",
    "A1=Audi('black','Car',89.0,6,True,'isl')\n",
    "A1.full_info()    "
   ]
  },
  {
   "cell_type": "code",
   "execution_count": 7,
   "id": "f6914055-2b24-4e14-8cad-6ae4a063f1b2",
   "metadata": {},
   "outputs": [
    {
     "name": "stdout",
     "output_type": "stream",
     "text": [
      "Father : RAM\n",
      "Mother : SITA\n"
     ]
    }
   ],
   "source": [
    "# multiple inheritance\n",
    "\n",
    "\n",
    "# Python program to demonstrate\n",
    "# multiple inheritance\n",
    " \n",
    "# Base class1\n",
    "class Mother:\n",
    "    mothername = \"\"\n",
    " \n",
    "    def mother(self):\n",
    "        print(self.mothername)\n",
    " \n",
    "# Base class2\n",
    " \n",
    " \n",
    "class Father:\n",
    "    fathername = \"\"\n",
    " \n",
    "    def father(self):\n",
    "        print(self.fathername)\n",
    " \n",
    "# Derived class\n",
    " \n",
    " \n",
    "class Son(Mother, Father):\n",
    "    def parents(self):\n",
    "        print(\"Father :\", self.fathername)\n",
    "        print(\"Mother :\", self.mothername)\n",
    " \n",
    " \n",
    "# Driver's code\n",
    "s1 = Son()\n",
    "s1.fathername = \"RAM\"\n",
    "s1.mothername = \"SITA\"\n",
    "s1.parents()"
   ]
  },
  {
   "cell_type": "code",
   "execution_count": 24,
   "id": "fe03575a-74b3-43f7-a881-392726f68509",
   "metadata": {},
   "outputs": [
    {
     "name": "stdin",
     "output_type": "stream",
     "text": [
      "Enter Your Name imrqn\n",
      "Enter Your Balnace 5688\n"
     ]
    },
    {
     "name": "stdout",
     "output_type": "stream",
     "text": [
      "account=427\n",
      "name=imrqn\n",
      "balance=5688\n",
      "78000\n",
      "5688\n"
     ]
    }
   ],
   "source": [
    "# Access modifier \n",
    "from random import randint\n",
    "class Bank:\n",
    "    def __init__(self)-> None:\n",
    "        self.__account=randint(1,100000)\n",
    "        self.__name=input('Enter Your Name')\n",
    "        self.__balance=int(input('Enter Your Balnace'))\n",
    "    def info(self):\n",
    "        print(f'account={self .__account}')\n",
    "        print(f'name={self.__name}')\n",
    "        print(f'balance={self.__balance}')\n",
    "    def setbalance(self,newbalance):#setter\n",
    "        self.balance=newbalance\n",
    "    def getbalance(self):\n",
    "        print(self.balance)\n",
    "\n",
    "obj=Bank()\n",
    "# print(obj.account)\n",
    "obj.info()\n",
    "obj.setbalance(78000)\n",
    "obj.getbalance()\n",
    "print(obj._Bank__balance)  # never do this it can access private members "
   ]
  },
  {
   "cell_type": "code",
   "execution_count": 27,
   "id": "30925a0b-741b-4d09-88ca-fd790d213c7e",
   "metadata": {
    "scrolled": true,
    "tags": []
   },
   "outputs": [
    {
     "name": "stdout",
     "output_type": "stream",
     "text": [
      "Father: RAM\n",
      "Mother: SITA\n",
      "RAM\n"
     ]
    }
   ],
   "source": [
    "class Mother:\n",
    "    _mothername = \"\"  # Protected attribute\n",
    "\n",
    "    def get_mother_name(self):\n",
    "        return self._mothername\n",
    "\n",
    "    def set_mother_name(self, name):\n",
    "        self._mothername = name\n",
    "\n",
    "class Father:\n",
    "    _fathername = \"\"  # Protected attribute\n",
    "\n",
    "    def get_father_name(self):\n",
    "        return self._fathername\n",
    "\n",
    "    def set_father_name(self, name):\n",
    "        self._fathername = name\n",
    "\n",
    "class Son(Mother, Father):\n",
    "    def parents(self):\n",
    "        print(\"Father:\", self.get_father_name())\n",
    "        print(\"Mother:\", self.get_mother_name())\n",
    "\n",
    "# Driver's code\n",
    "s1 = Son()\n",
    "s1.set_father_name(\"RAM\")\n",
    "s1.set_mother_name(\"SITA\")\n",
    "s1.parents()\n",
    "print(s1.get_father_name())\n"
   ]
  },
  {
   "cell_type": "code",
   "execution_count": 33,
   "id": "4d14a164-6f7b-4f75-8dd5-ae88c3850e5b",
   "metadata": {},
   "outputs": [
    {
     "name": "stdout",
     "output_type": "stream",
     "text": [
      "bark\n",
      "meow meow\n"
     ]
    }
   ],
   "source": [
    "#polymorphism\n",
    "class Animal:\n",
    "    def sound(self):\n",
    "        print('sound')\n",
    "class dog(Animal):\n",
    "    def sound(self):\n",
    "        print('bark')\n",
    "class cat(Animal):\n",
    "    def sound(self):\n",
    "        print('meow meow')\n",
    "obj=dog()\n",
    "obj.sound()\n",
    "obj=cat()\n",
    "obj.sound()"
   ]
  },
  {
   "cell_type": "code",
   "execution_count": null,
   "id": "14a38996-66cc-4c75-a8db-1a2bdd660720",
   "metadata": {},
   "outputs": [],
   "source": []
  }
 ],
 "metadata": {
  "kernelspec": {
   "display_name": "Python 3",
   "language": "python",
   "name": "python3"
  },
  "language_info": {
   "codemirror_mode": {
    "name": "ipython",
    "version": 3
   },
   "file_extension": ".py",
   "mimetype": "text/x-python",
   "name": "python",
   "nbconvert_exporter": "python",
   "pygments_lexer": "ipython3",
   "version": "3.7.5"
  }
 },
 "nbformat": 4,
 "nbformat_minor": 5
}
